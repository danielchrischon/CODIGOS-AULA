{
  "nbformat": 4,
  "nbformat_minor": 0,
  "metadata": {
    "colab": {
      "provenance": []
    },
    "kernelspec": {
      "name": "python3",
      "display_name": "Python 3"
    },
    "language_info": {
      "name": "python"
    }
  },
  "cells": [
    {
      "cell_type": "markdown",
      "source": [
        "**- Condicionais com if/else:**"
      ],
      "metadata": {
        "id": "zqM8uSIBx0Kn"
      }
    },
    {
      "cell_type": "markdown",
      "source": [
        "1. Escreva um programa que peça ao usuário sua idade e informe se ele é maior de idade (no Brasil, 18 anos) utilizando type hints.\n",
        "Entrada: Idade do usuário (int).\n",
        "Saída: Mensagem informando se o usuário é maior de idade (bool)."
      ],
      "metadata": {
        "id": "Pz5Y7yPow6Oq"
      }
    },
    {
      "cell_type": "code",
      "execution_count": 1,
      "metadata": {
        "colab": {
          "base_uri": "https://localhost:8080/"
        },
        "id": "3yzpDnjBwO6a",
        "outputId": "2a1ab943-b633-4c21-d2d4-4b6389467934"
      },
      "outputs": [
        {
          "output_type": "stream",
          "name": "stdout",
          "text": [
            "Digite sua idade: 23\n",
            "Você é maior de idade.\n"
          ]
        }
      ],
      "source": [
        "def verificar_maioridade(idade: int) -> bool:\n",
        "    \"\"\"\n",
        "    Verifica se o usuário é maior de idade.\n",
        "\n",
        "    Args:\n",
        "        idade (int): Idade do usuário.\n",
        "\n",
        "    Returns:\n",
        "        bool: True se o usuário for maior de idade, False caso contrário.\n",
        "    \"\"\"\n",
        "    return idade >= 18\n",
        "\n",
        "# Pedindo ao usuário para digitar sua idade\n",
        "idade_usuario = int(input(\"Digite sua idade: \"))\n",
        "\n",
        "# Verificando se o usuário é maior de idade e imprimindo o resultado\n",
        "if verificar_maioridade(idade_usuario):\n",
        "    print(\"Você é maior de idade.\")\n",
        "else:\n",
        "    print(\"Você é menor de idade.\")\n"
      ]
    },
    {
      "cell_type": "markdown",
      "source": [
        "2. Escreva um programa que peça ao usuário o comprimento dos três lados de um triângulo e classifique-o como equilátero, isósceles ou escaleno utilizando type hints.\n",
        "Entrada: Comprimento dos lados a, b e c (float).\n",
        "Saída: Classificação do triângulo (str)."
      ],
      "metadata": {
        "id": "szz9zrXcxIaI"
      }
    },
    {
      "cell_type": "code",
      "source": [
        "def classificar_triangulo(a: float, b: float, c: float) -> str:\n",
        "    \"\"\"\n",
        "    Classifica um triângulo com base nos comprimentos dos lados.\n",
        "\n",
        "    Args:\n",
        "        a (float): Comprimento do lado a.\n",
        "        b (float): Comprimento do lado b.\n",
        "        c (float): Comprimento do lado c.\n",
        "\n",
        "    Returns:\n",
        "        str: Classificação do triângulo (equilátero, isósceles ou escaleno).\n",
        "    \"\"\"\n",
        "    if a == b == c:\n",
        "        return \"equilátero\"\n",
        "    elif a == b or a == c or b == c:\n",
        "        return \"isósceles\"\n",
        "    else:\n",
        "        return \"escaleno\"\n",
        "\n",
        "# Pedindo ao usuário para digitar o comprimento dos lados do triângulo\n",
        "a = float(input(\"Digite o comprimento do lado a: \"))\n",
        "b = float(input(\"Digite o comprimento do lado b: \"))\n",
        "c = float(input(\"Digite o comprimento do lado c: \"))\n",
        "\n",
        "# Classificando o triângulo e imprimindo o resultado\n",
        "classificacao = classificar_triangulo(a, b, c)\n",
        "print(\"O triângulo é\", classificacao)\n"
      ],
      "metadata": {
        "colab": {
          "base_uri": "https://localhost:8080/"
        },
        "id": "qnVdLdqzxJQE",
        "outputId": "a7676156-4e9d-4be2-d8c7-bfb343a94bf4"
      },
      "execution_count": 2,
      "outputs": [
        {
          "output_type": "stream",
          "name": "stdout",
          "text": [
            "Digite o comprimento do lado a: 1\n",
            "Digite o comprimento do lado b: 2\n",
            "Digite o comprimento do lado c: 3\n",
            "O triângulo é escaleno\n"
          ]
        }
      ]
    },
    {
      "cell_type": "markdown",
      "source": [
        "3. Escreva um programa que peça ao usuário três números e imprima o maior deles utilizando type hints.\n",
        "Entrada: Três números (float).\n",
        "Saída: O maior número (float)."
      ],
      "metadata": {
        "id": "gVS1RrecxQw5"
      }
    },
    {
      "cell_type": "code",
      "source": [
        "def encontrar_maior_numero(num1: float, num2: float, num3: float) -> float:\n",
        "    \"\"\"\n",
        "    Encontra o maior número entre três números.\n",
        "\n",
        "    Args:\n",
        "        num1 (float): Primeiro número.\n",
        "        num2 (float): Segundo número.\n",
        "        num3 (float): Terceiro número.\n",
        "\n",
        "    Returns:\n",
        "        float: O maior número entre os três.\n",
        "    \"\"\"\n",
        "    return max(num1, num2, num3)\n",
        "\n",
        "# Pedindo ao usuário para digitar os três números\n",
        "num1 = float(input(\"Digite o primeiro número: \"))\n",
        "num2 = float(input(\"Digite o segundo número: \"))\n",
        "num3 = float(input(\"Digite o terceiro número: \"))\n",
        "\n",
        "# Encontrando e imprimindo o maior número\n",
        "maior_numero = encontrar_maior_numero(num1, num2, num3)\n",
        "print(\"O maior número é:\", maior_numero)\n"
      ],
      "metadata": {
        "colab": {
          "base_uri": "https://localhost:8080/"
        },
        "id": "ytRUEDFixT08",
        "outputId": "e94f8c53-2236-40a8-8607-96dba1ba1652"
      },
      "execution_count": 3,
      "outputs": [
        {
          "output_type": "stream",
          "name": "stdout",
          "text": [
            "Digite o primeiro número: 1\n",
            "Digite o segundo número: 2\n",
            "Digite o terceiro número: 3\n",
            "O maior número é: 3.0\n"
          ]
        }
      ]
    },
    {
      "cell_type": "markdown",
      "source": [
        "**- Condicionais com match:**"
      ],
      "metadata": {
        "id": "nM6diENhxawo"
      }
    },
    {
      "cell_type": "markdown",
      "source": [
        "1. Escreva um programa que peça ao usuário o nome de uma fruta e utilize o operador match para imprimir uma mensagem relacionada à fruta (ex: \"Ótima fonte de vitamina C\", \"Perfeito para uma salada\", etc.).\n",
        "Entrada: Nome da fruta (str).\n",
        "Saída: Mensagem relacionada à fruta (str)."
      ],
      "metadata": {
        "id": "xW7O7OXix8No"
      }
    },
    {
      "cell_type": "code",
      "source": [
        "def mensagem_fruta(fruta: str) -> str:\n",
        "    match fruta.lower():\n",
        "        case \"maçã\":\n",
        "            return \"Ótima fonte de fibras e vitamina C.\"\n",
        "        case \"banana\":\n",
        "            return \"Rica em potássio e boa para energia.\"\n",
        "        case \"laranja\":\n",
        "            return \"Rica em vitamina C e antioxidantes.\"\n",
        "        case \"morango\":\n",
        "            return \"Baixa em calorias e rica em antioxidantes.\"\n",
        "        case \"abacaxi\":\n",
        "            return \"Contém bromelina, que pode ajudar na digestão.\"\n",
        "        case _:\n",
        "            return \"Desculpe, não temos informações sobre essa fruta.\"\n",
        "\n",
        "# Pedindo ao usuário para digitar o nome da fruta\n",
        "fruta_usuario = input(\"Digite o nome de uma fruta: \")\n",
        "\n",
        "# Imprimindo a mensagem relacionada à fruta\n",
        "print(mensagem_fruta(fruta_usuario))\n"
      ],
      "metadata": {
        "colab": {
          "base_uri": "https://localhost:8080/"
        },
        "id": "IUZoq_N2x-gQ",
        "outputId": "0316f77c-155e-443e-c5ae-6b9b1b4b2530"
      },
      "execution_count": 4,
      "outputs": [
        {
          "output_type": "stream",
          "name": "stdout",
          "text": [
            "Digite o nome de uma fruta: abacaxi\n",
            "Contém bromelina, que pode ajudar na digestão.\n"
          ]
        }
      ]
    },
    {
      "cell_type": "markdown",
      "source": [
        "2. Escreva um programa que peça ao usuário o número do dia da semana (1-7) e utilize o operador match para imprimir o nome completo do dia.\n",
        "Entrada: Número do dia da semana (int).\n",
        "Saída: Nome completo do dia da semana (str)."
      ],
      "metadata": {
        "id": "bVdk7cWJyLjf"
      }
    },
    {
      "cell_type": "code",
      "source": [
        "def nome_dia_semana(numero: int) -> str:\n",
        "    match numero:\n",
        "        case 1:\n",
        "            return \"Domingo\"\n",
        "        case 2:\n",
        "            return \"Segunda-feira\"\n",
        "        case 3:\n",
        "            return \"Terça-feira\"\n",
        "        case 4:\n",
        "            return \"Quarta-feira\"\n",
        "        case 5:\n",
        "            return \"Quinta-feira\"\n",
        "        case 6:\n",
        "            return \"Sexta-feira\"\n",
        "        case 7:\n",
        "            return \"Sábado\"\n",
        "        case _:\n",
        "            return \"Número de dia inválido. Digite um número de 1 a 7.\"\n",
        "\n",
        "# Pedindo ao usuário para digitar o número do dia da semana\n",
        "numero_dia_semana = int(input(\"Digite o número do dia da semana (1-7): \"))\n",
        "\n",
        "# Imprimindo o nome completo do dia da semana\n",
        "print(nome_dia_semana(numero_dia_semana))\n"
      ],
      "metadata": {
        "colab": {
          "base_uri": "https://localhost:8080/"
        },
        "id": "0Vp3uum5yMN0",
        "outputId": "36d0204a-32a8-477b-e630-6523c5f339ca"
      },
      "execution_count": 5,
      "outputs": [
        {
          "output_type": "stream",
          "name": "stdout",
          "text": [
            "Digite o número do dia da semana (1-7): 5\n",
            "Quinta-feira\n"
          ]
        }
      ]
    },
    {
      "cell_type": "markdown",
      "source": [
        "3. Escreva um programa que peça ao usuário seu nível de escolaridade (fundamental, médio, superior) e utilize o operador match para imprimir o tempo médio de estudo para cada nível.\n",
        "Entrada: Nível de escolaridade (str).\n",
        "Saída: Tempo médio de estudo para o nível (str)."
      ],
      "metadata": {
        "id": "b0isp2toyVsT"
      }
    },
    {
      "cell_type": "code",
      "source": [
        "def tempo_estudo(escolaridade: str) -> str:\n",
        "    match escolaridade.lower():\n",
        "        case \"fundamental\":\n",
        "            return \"4 horas por dia\"\n",
        "        case \"médio\":\n",
        "            return \"5 horas por dia\"\n",
        "        case \"superior\":\n",
        "            return \"6 horas por dia\"\n",
        "        case _:\n",
        "            return \"Nível de escolaridade inválido.\"\n",
        "\n",
        "# Pedindo ao usuário para digitar seu nível de escolaridade\n",
        "nivel_escolaridade = input(\"Digite seu nível de escolaridade (fundamental, médio, superior): \")\n",
        "\n",
        "# Imprimindo o tempo médio de estudo para o nível de escolaridade\n",
        "print(tempo_estudo(nivel_escolaridade))\n"
      ],
      "metadata": {
        "colab": {
          "base_uri": "https://localhost:8080/"
        },
        "id": "JAyuu391yWqA",
        "outputId": "42459b8a-0e0d-407e-88bf-87adfb7c832f"
      },
      "execution_count": 6,
      "outputs": [
        {
          "output_type": "stream",
          "name": "stdout",
          "text": [
            "Digite seu nível de escolaridade (fundamental, médio, superior): medio\n",
            "Nível de escolaridade inválido.\n"
          ]
        }
      ]
    },
    {
      "cell_type": "markdown",
      "source": [
        "**- Tuplas**"
      ],
      "metadata": {
        "id": "BfKKH4-Iyjla"
      }
    },
    {
      "cell_type": "markdown",
      "source": [
        "1. Crie uma tupla para armazenar os dados de uma pessoa (nome, idade, cidade). Utilize type hints e demonstre como acessar cada elemento da tupla."
      ],
      "metadata": {
        "id": "vZJ98dw5ymzB"
      }
    },
    {
      "cell_type": "code",
      "source": [
        "from typing import Tuple\n",
        "\n",
        "# Definindo uma tupla para armazenar os dados de uma pessoa\n",
        "DadosPessoa = Tuple[str, int, str]\n",
        "\n",
        "# Criando uma tupla com os dados de uma pessoa\n",
        "pessoa: DadosPessoa = (\"João\", 30, \"São Paulo\")\n",
        "\n",
        "# Acessando cada elemento da tupla\n",
        "nome: str = pessoa[0]\n",
        "idade: int = pessoa[1]\n",
        "cidade: str = pessoa[2]\n",
        "\n",
        "# Imprimindo os dados da pessoa\n",
        "print(\"Nome:\", nome)\n",
        "print(\"Idade:\", idade)\n",
        "print(\"Cidade:\", cidade)\n"
      ],
      "metadata": {
        "colab": {
          "base_uri": "https://localhost:8080/"
        },
        "id": "uQ4mUrebypwC",
        "outputId": "0ddee082-6566-4e37-b5e4-d200d4388328"
      },
      "execution_count": 7,
      "outputs": [
        {
          "output_type": "stream",
          "name": "stdout",
          "text": [
            "Nome: João\n",
            "Idade: 30\n",
            "Cidade: São Paulo\n"
          ]
        }
      ]
    },
    {
      "cell_type": "markdown",
      "source": [
        "2. Escreva um programa que receba uma tupla de números e retorne uma nova tupla com os elementos na ordem inversa. Utilize type hints.\n"
      ],
      "metadata": {
        "id": "EQ-l9odVy0UE"
      }
    },
    {
      "cell_type": "code",
      "source": [
        "from typing import Tuple\n",
        "\n",
        "def inverter_tupla(tupla: Tuple[int, ...]) -> Tuple[int, ...]:\n",
        "    \"\"\"\n",
        "    Inverte os elementos de uma tupla de números.\n",
        "\n",
        "    Args:\n",
        "        tupla (Tuple[int, ...]): Tupla de números.\n",
        "\n",
        "    Returns:\n",
        "        Tuple[int, ...]: Nova tupla com os elementos na ordem inversa.\n",
        "    \"\"\"\n",
        "    return tuple(reversed(tupla))\n",
        "\n",
        "# Testando a função\n",
        "tupla_original: Tuple[int, ...] = (1, 2, 3, 4, 5)\n",
        "tupla_invertida: Tuple[int, ...] = inverter_tupla(tupla_original)\n",
        "\n",
        "print(\"Tupla original:\", tupla_original)\n",
        "print(\"Tupla invertida:\", tupla_invertida)\n"
      ],
      "metadata": {
        "colab": {
          "base_uri": "https://localhost:8080/"
        },
        "id": "7ZjAbafLy1Pw",
        "outputId": "0fcc9f95-77e4-4d17-caf3-44c5caac040e"
      },
      "execution_count": 8,
      "outputs": [
        {
          "output_type": "stream",
          "name": "stdout",
          "text": [
            "Tupla original: (1, 2, 3, 4, 5)\n",
            "Tupla invertida: (5, 4, 3, 2, 1)\n"
          ]
        }
      ]
    },
    {
      "cell_type": "markdown",
      "source": [
        "3. Escreva um programa que peça ao usuário um número e procure por ele em uma tupla. Utilize type hints e imprima uma mensagem informando se o elemento foi encontrado ou não."
      ],
      "metadata": {
        "id": "HkPG11TWy58I"
      }
    },
    {
      "cell_type": "code",
      "source": [
        "from typing import Tuple\n",
        "\n",
        "def buscar_numero(tupla: Tuple[int, ...], numero: int) -> None:\n",
        "    \"\"\"\n",
        "    Busca por um número em uma tupla e imprime uma mensagem informando se o número foi encontrado.\n",
        "\n",
        "    Args:\n",
        "        tupla (Tuple[int, ...]): Tupla de números.\n",
        "        numero (int): Número a ser buscado.\n",
        "    \"\"\"\n",
        "    if numero in tupla:\n",
        "        print(f\"O número {numero} foi encontrado na tupla.\")\n",
        "    else:\n",
        "        print(f\"O número {numero} não foi encontrado na tupla.\")\n",
        "\n",
        "# Testando a função\n",
        "tupla_numeros: Tuple[int, ...] = (10, 20, 30, 40, 50)\n",
        "\n",
        "# Pedindo ao usuário para digitar um número\n",
        "numero_busca: int = int(input(\"Digite um número para buscar na tupla: \"))\n",
        "\n",
        "# Chamando a função para buscar o número na tupla e imprimir o resultado\n",
        "buscar_numero(tupla_numeros, numero_busca)\n"
      ],
      "metadata": {
        "colab": {
          "base_uri": "https://localhost:8080/"
        },
        "id": "pfI9QvFJy8ng",
        "outputId": "fc00e6cf-90a9-4552-d94a-a40468708b20"
      },
      "execution_count": 9,
      "outputs": [
        {
          "output_type": "stream",
          "name": "stdout",
          "text": [
            "Digite um número para buscar na tupla: 4\n",
            "O número 4 não foi encontrado na tupla.\n"
          ]
        }
      ]
    },
    {
      "cell_type": "markdown",
      "source": [
        "**- Conjuntos**"
      ],
      "metadata": {
        "id": "ZQa9vJTxzER5"
      }
    },
    {
      "cell_type": "markdown",
      "source": [
        "1. Crie dois conjuntos com diferentes números e utilize type hints para demonstrar as operações de união (|), intersecção (&) e diferença (-) entre eles.\n"
      ],
      "metadata": {
        "id": "4ECKm8_kzH3H"
      }
    },
    {
      "cell_type": "code",
      "source": [
        "from typing import Set\n",
        "\n",
        "# Definindo os conjuntos com type hints\n",
        "ConjuntoInteiro = Set[int]\n",
        "\n",
        "# Criando dois conjuntos com diferentes números\n",
        "conjunto1: ConjuntoInteiro = {1, 2, 3, 4, 5}\n",
        "conjunto2: ConjuntoInteiro = {4, 5, 6, 7, 8}\n",
        "\n",
        "# Realizando operações de conjunto\n",
        "uniao: ConjuntoInteiro = conjunto1 | conjunto2  # União\n",
        "intersecao: ConjuntoInteiro = conjunto1 & conjunto2  # Interseção\n",
        "diferenca1: ConjuntoInteiro = conjunto1 - conjunto2  # Diferença conjunto1 - conjunto2\n",
        "diferenca2: ConjuntoInteiro = conjunto2 - conjunto1  # Diferença conjunto2 - conjunto1\n",
        "\n",
        "# Imprimindo os resultados\n",
        "print(\"Conjunto 1:\", conjunto1)\n",
        "print(\"Conjunto 2:\", conjunto2)\n",
        "print(\"União:\", uniao)\n",
        "print(\"Interseção:\", intersecao)\n",
        "print(\"Diferença (Conjunto 1 - Conjunto 2):\", diferenca1)\n",
        "print(\"Diferença (Conjunto 2 - Conjunto 1):\", diferenca2)\n"
      ],
      "metadata": {
        "colab": {
          "base_uri": "https://localhost:8080/"
        },
        "id": "8wMwYmy9zJq_",
        "outputId": "2183718d-fb3f-4076-cf1b-32a5e5344cf1"
      },
      "execution_count": 10,
      "outputs": [
        {
          "output_type": "stream",
          "name": "stdout",
          "text": [
            "Conjunto 1: {1, 2, 3, 4, 5}\n",
            "Conjunto 2: {4, 5, 6, 7, 8}\n",
            "União: {1, 2, 3, 4, 5, 6, 7, 8}\n",
            "Interseção: {4, 5}\n",
            "Diferença (Conjunto 1 - Conjunto 2): {1, 2, 3}\n",
            "Diferença (Conjunto 2 - Conjunto 1): {8, 6, 7}\n"
          ]
        }
      ]
    },
    {
      "cell_type": "markdown",
      "source": [
        "2. Escreva um programa que peça ao usuário um número e verifique se ele pertence a um determinado conjunto. Utilize type hints."
      ],
      "metadata": {
        "id": "zug4iw1dzOj4"
      }
    },
    {
      "cell_type": "code",
      "source": [
        "from typing import Set\n",
        "\n",
        "def verificar_pertinencia(numero: int, conjunto: Set[int]) -> bool:\n",
        "    \"\"\"\n",
        "    Verifica se um número pertence a um determinado conjunto.\n",
        "\n",
        "    Args:\n",
        "        numero (int): Número a ser verificado.\n",
        "        conjunto (Set[int]): Conjunto de números.\n",
        "\n",
        "    Returns:\n",
        "        bool: True se o número pertencer ao conjunto, False caso contrário.\n",
        "    \"\"\"\n",
        "    return numero in conjunto\n",
        "\n",
        "# Criando um conjunto de exemplo\n",
        "conjunto_exemplo: Set[int] = {1, 2, 3, 4, 5}\n",
        "\n",
        "# Pedindo ao usuário para digitar um número\n",
        "numero_usuario: int = int(input(\"Digite um número: \"))\n",
        "\n",
        "# Verificando se o número pertence ao conjunto de exemplo\n",
        "pertence: bool = verificar_pertinencia(numero_usuario, conjunto_exemplo)\n",
        "\n",
        "# Imprimindo o resultado\n",
        "if pertence:\n",
        "    print(f\"O número {numero_usuario} pertence ao conjunto.\")\n",
        "else:\n",
        "    print(f\"O número {numero_usuario} não pertence ao conjunto.\")\n"
      ],
      "metadata": {
        "colab": {
          "base_uri": "https://localhost:8080/"
        },
        "id": "Tjl3qGLlzSJK",
        "outputId": "b8eff695-b0d6-4e2d-ef9d-04ec73c62203"
      },
      "execution_count": 11,
      "outputs": [
        {
          "output_type": "stream",
          "name": "stdout",
          "text": [
            "Digite um número: 4\n",
            "O número 4 pertence ao conjunto.\n"
          ]
        }
      ]
    },
    {
      "cell_type": "markdown",
      "source": [
        "3. Escreva um programa que receba um conjunto com elementos repetidos e retorne um novo conjunto sem duplicatas. Utilize type hints."
      ],
      "metadata": {
        "id": "_0hObjgmzZcq"
      }
    },
    {
      "cell_type": "code",
      "source": [
        "from typing import Set\n",
        "\n",
        "def remover_duplicatas(conjunto_com_duplicatas: Set[int]) -> Set[int]:\n",
        "    \"\"\"\n",
        "    Remove as duplicatas de um conjunto e retorna um novo conjunto sem duplicatas.\n",
        "\n",
        "    Args:\n",
        "        conjunto_com_duplicatas (Set[int]): Conjunto com elementos repetidos.\n",
        "\n",
        "    Returns:\n",
        "        Set[int]: Novo conjunto sem duplicatas.\n",
        "    \"\"\"\n",
        "    return set(conjunto_com_duplicatas)\n",
        "\n",
        "# Conjunto com elementos repetidos\n",
        "conjunto_com_duplicatas: Set[int] = {1, 2, 2, 3, 3, 4, 5, 5, 5}\n",
        "\n",
        "# Remover duplicatas\n",
        "novo_conjunto_sem_duplicatas: Set[int] = remover_duplicatas(conjunto_com_duplicatas)\n",
        "\n",
        "# Imprimir resultado\n",
        "print(\"Conjunto com duplicatas:\", conjunto_com_duplicatas)\n",
        "print(\"Novo conjunto sem duplicatas:\", novo_conjunto_sem_duplicatas)\n"
      ],
      "metadata": {
        "colab": {
          "base_uri": "https://localhost:8080/"
        },
        "id": "16WkIGFTzaD8",
        "outputId": "08a1cfc0-f486-4866-bdd9-1c65441ef00c"
      },
      "execution_count": 12,
      "outputs": [
        {
          "output_type": "stream",
          "name": "stdout",
          "text": [
            "Conjunto com duplicatas: {1, 2, 3, 4, 5}\n",
            "Novo conjunto sem duplicatas: {1, 2, 3, 4, 5}\n"
          ]
        }
      ]
    },
    {
      "cell_type": "markdown",
      "source": [
        "**- Dicionários**\n"
      ],
      "metadata": {
        "id": "tXo_Oo0MzfxJ"
      }
    },
    {
      "cell_type": "markdown",
      "source": [
        "1. Crie um dicionário para armazenar dados de alunos (nome, matrícula, curso). Utilize type hints e demonstre como adicionar, remover e modificar elementos no dicionário.\n"
      ],
      "metadata": {
        "id": "Z8ELyUj5zg1L"
      }
    },
    {
      "cell_type": "code",
      "source": [
        "from typing import Dict\n",
        "\n",
        "# Definindo o tipo para o dicionário de alunos\n",
        "DadosAluno = Dict[str, str]\n",
        "\n",
        "# Criando um dicionário para armazenar dados de alunos\n",
        "alunos: DadosAluno = {\n",
        "    \"nome\": \"João\",\n",
        "    \"matricula\": \"123456\",\n",
        "    \"curso\": \"Engenharia\"\n",
        "}\n",
        "\n",
        "# Adicionando um novo aluno ao dicionário\n",
        "alunos[\"nome\"] = \"Maria\"\n",
        "alunos[\"matricula\"] = \"654321\"\n",
        "alunos[\"curso\"] = \"Ciências da Computação\"\n",
        "\n",
        "# Imprimindo o dicionário atualizado\n",
        "print(\"Dicionário atualizado:\", alunos)\n",
        "\n",
        "# Removendo um aluno do dicionário\n",
        "del alunos[\"nome\"]\n",
        "\n",
        "# Imprimindo o dicionário após a remoção\n",
        "print(\"Dicionário após a remoção:\", alunos)\n",
        "\n",
        "# Modificando o curso de um aluno existente\n",
        "alunos[\"curso\"] = \"Administração\"\n",
        "\n",
        "# Imprimindo o dicionário após a modificação\n",
        "print(\"Dicionário após a modificação:\", alunos)\n"
      ],
      "metadata": {
        "colab": {
          "base_uri": "https://localhost:8080/"
        },
        "id": "TZxi-RdvzjaZ",
        "outputId": "8ab78abf-cf01-4f4c-e1c5-4a56989a8d9e"
      },
      "execution_count": 13,
      "outputs": [
        {
          "output_type": "stream",
          "name": "stdout",
          "text": [
            "Dicionário atualizado: {'nome': 'Maria', 'matricula': '654321', 'curso': 'Ciências da Computação'}\n",
            "Dicionário após a remoção: {'matricula': '654321', 'curso': 'Ciências da Computação'}\n",
            "Dicionário após a modificação: {'matricula': '654321', 'curso': 'Administração'}\n"
          ]
        }
      ]
    },
    {
      "cell_type": "markdown",
      "source": [
        "2. Escreva um programa que receba um texto como entrada e utilize um dicionário para contar a frequência de cada palavra. Utilize type hints e mostre as palavras mais frequentes."
      ],
      "metadata": {
        "id": "odp8uz5RzonY"
      }
    },
    {
      "cell_type": "code",
      "source": [
        "from typing import Dict\n",
        "\n",
        "def contar_palavras(texto: str) -> Dict[str, int]:\n",
        "    \"\"\"\n",
        "    Conta a frequência de cada palavra em um texto e retorna um dicionário com as contagens.\n",
        "\n",
        "    Args:\n",
        "        texto (str): Texto de entrada.\n",
        "\n",
        "    Returns:\n",
        "        Dict[str, int]: Dicionário com as contagens de frequência de cada palavra.\n",
        "    \"\"\"\n",
        "    palavras = texto.split()\n",
        "    frequencia: Dict[str, int] = {}\n",
        "\n",
        "    for palavra in palavras:\n",
        "        # Remove pontuação\n",
        "        palavra = palavra.strip(\",.!?;:\\\"'()[]{}\")\n",
        "        # Converte para minúsculas\n",
        "        palavra = palavra.lower()\n",
        "        # Atualiza a contagem da palavra no dicionário\n",
        "        frequencia[palavra] = frequencia.get(palavra, 0) + 1\n",
        "\n",
        "    return frequencia\n",
        "\n",
        "def palavras_mais_frequentes(frequencia: Dict[str, int], n: int = 5) -> None:\n",
        "    \"\"\"\n",
        "    Mostra as palavras mais frequentes de acordo com o dicionário de frequência.\n",
        "\n",
        "    Args:\n",
        "        frequencia (Dict[str, int]): Dicionário de frequência de palavras.\n",
        "        n (int): Número de palavras mais frequentes a serem mostradas.\n",
        "    \"\"\"\n",
        "    # Ordena o dicionário de frequência pelo valor (contagem) em ordem decrescente\n",
        "    frequencia_ordenada = sorted(frequencia.items(), key=lambda x: x[1], reverse=True)\n",
        "\n",
        "    print(f\"Palavras mais frequentes ({n}):\")\n",
        "    for palavra, frequencia in frequencia_ordenada[:n]:\n",
        "        print(f\"{palavra}: {frequencia} vezes\")\n",
        "\n",
        "# Recebe o texto de entrada do usuário\n",
        "texto = input(\"Digite um texto: \")\n",
        "\n",
        "# Conta a frequência de cada palavra no texto\n",
        "frequencia_palavras = contar_palavras(texto)\n",
        "\n",
        "# Mostra as palavras mais frequentes\n",
        "palavras_mais_frequentes(frequencia_palavras)\n"
      ],
      "metadata": {
        "colab": {
          "base_uri": "https://localhost:8080/"
        },
        "id": "dJJJ6DttzpN2",
        "outputId": "d407f937-c3aa-48a7-9599-4ce34aa441d8"
      },
      "execution_count": 14,
      "outputs": [
        {
          "output_type": "stream",
          "name": "stdout",
          "text": [
            "Digite um texto: eu sou lindo\n",
            "Palavras mais frequentes (5):\n",
            "eu: 1 vezes\n",
            "sou: 1 vezes\n",
            "lindo: 1 vezes\n"
          ]
        }
      ]
    },
    {
      "cell_type": "markdown",
      "source": [
        "3. Crie um dicionário com traduções de palavras entre dois idiomas. Utilize type hints para traduzir uma palavra fornecida pelo usuário."
      ],
      "metadata": {
        "id": "HmBfhCHjzya4"
      }
    },
    {
      "cell_type": "code",
      "source": [
        "from typing import Dict, Optional\n",
        "\n",
        "# Definindo o tipo para o dicionário de traduções\n",
        "DicionarioTraducoes = Dict[str, str]\n",
        "\n",
        "def traduzir_palavra(palavra: str, dicionario: DicionarioTraducoes) -> Optional[str]:\n",
        "    \"\"\"\n",
        "    Traduz uma palavra fornecida pelo usuário usando um dicionário de traduções.\n",
        "\n",
        "    Args:\n",
        "        palavra (str): Palavra a ser traduzida.\n",
        "        dicionario (Dict[str, str]): Dicionário de traduções.\n",
        "\n",
        "    Returns:\n",
        "        Optional[str]: A tradução da palavra, ou None se a palavra não estiver no dicionário.\n",
        "    \"\"\"\n",
        "    palavra = palavra.lower()  # Normaliza a palavra para minúsculas\n",
        "    return dicionario.get(palavra)\n",
        "\n",
        "# Dicionário de traduções (inglês para português)\n",
        "dicionario_traducoes: DicionarioTraducoes = {\n",
        "    \"hello\": \"olá\",\n",
        "    \"world\": \"mundo\",\n",
        "    \"apple\": \"maçã\",\n",
        "    \"banana\": \"banana\",\n",
        "    # Adicione mais traduções conforme necessário\n",
        "}\n",
        "\n",
        "# Recebe a palavra a ser traduzida do usuário\n",
        "palavra_usuario = input(\"Digite uma palavra para traduzir: \")\n",
        "\n",
        "# Traduz a palavra usando o dicionário de traduções\n",
        "traducao = traduzir_palavra(palavra_usuario, dicionario_traducoes)\n",
        "\n",
        "# Mostra a tradução da palavra (se existir)\n",
        "if traducao:\n",
        "    print(f\"A tradução de '{palavra_usuario}' é '{traducao}'.\")\n",
        "else:\n",
        "    print(f\"A palavra '{palavra_usuario}' não pôde ser traduzida.\")\n"
      ],
      "metadata": {
        "colab": {
          "base_uri": "https://localhost:8080/"
        },
        "id": "iYEQf73mz02h",
        "outputId": "258ce565-ed50-42e5-a019-e4cf89449909"
      },
      "execution_count": 15,
      "outputs": [
        {
          "output_type": "stream",
          "name": "stdout",
          "text": [
            "Digite uma palavra para traduzir: boy\n",
            "A palavra 'boy' não pôde ser traduzida.\n"
          ]
        }
      ]
    }
  ]
}